{
  "cells": [
    {
      "cell_type": "markdown",
      "metadata": {
        "id": "lesbVgHzEBZt"
      },
      "source": [
        "## Análisis exploratorio de datos\n",
        "Para el ejercicio se utilizó el dataset hipparcos.voidmain.csv.\n",
        "Este dataset muestra magnitudes de estrellas visualizadas con el satélite Hipparcos"
      ]
    },
    {
      "cell_type": "code",
      "execution_count": null,
      "metadata": {
        "colab": {
          "base_uri": "https://localhost:8080/"
        },
        "id": "eWwa0QKsD2jf",
        "outputId": "9360551d-0f1d-49dc-8686-7ba22f97f901"
      },
      "outputs": [],
      "source": [
        "# prompt: instalar tydiverse\n",
        "%%R\n",
        "install.packages(\"tidyverse\")\n",
        "library(tidyverse)\n"
      ]
    },
    {
      "cell_type": "code",
      "execution_count": null,
      "metadata": {
        "colab": {
          "base_uri": "https://localhost:8080/",
          "height": 1000
        },
        "id": "YP0BROCyFtz5",
        "outputId": "fbd43d48-e2e8-44b8-bb99-ac3722ebc6cf"
      },
      "outputs": [],
      "source": [
        "# prompt: crear eda con dataset hipparcos-voidmain.csv\n",
        "\n",
        "# Cargar librerías necesarias\n",
        "library(tidyverse)\n",
        "\n",
        "# Cargar el conjunto de datos\n",
        "# Asegúrate de que el archivo 'hipparcos-voidmain.csv' esté en tu directorio de trabajo\n",
        "# o proporciona la ruta completa al archivo\n",
        "data <- read.csv(\"hipparcos-voidmain.csv\")\n",
        "\n",
        "# Resumen estadístico de las variables numéricas\n",
        "summary(data)"
      ]
    },
    {
      "cell_type": "code",
      "execution_count": null,
      "metadata": {
        "colab": {
          "base_uri": "https://localhost:8080/"
        },
        "id": "xTkp7vwpiCCi",
        "outputId": "daccc3c6-7120-4f86-bdfb-8b95dcc7c451"
      },
      "outputs": [],
      "source": [
        "# Estructura del dataset\n",
        "str(data)"
      ]
    },
    {
      "cell_type": "code",
      "execution_count": null,
      "metadata": {
        "colab": {
          "base_uri": "https://localhost:8080/",
          "height": 34
        },
        "id": "haJqDy14iJji",
        "outputId": "a37cf6ba-5c17-486c-c063-be939c9f713e"
      },
      "outputs": [],
      "source": [
        "# Dimensiones del dataset\n",
        "dim(data)"
      ]
    },
    {
      "cell_type": "code",
      "execution_count": null,
      "metadata": {
        "colab": {
          "base_uri": "https://localhost:8080/",
          "height": 515
        },
        "id": "r0UDpCBnmpgh",
        "outputId": "a9d92260-88cd-4020-96c8-364b0ffcd29b"
      },
      "outputs": [],
      "source": [
        "# Primeras celdas del dataset\n",
        "head(data)"
      ]
    },
    {
      "cell_type": "code",
      "execution_count": null,
      "metadata": {
        "colab": {
          "base_uri": "https://localhost:8080/",
          "height": 121
        },
        "id": "XbA6NBz6m2wg",
        "outputId": "5fee6aa7-5ef8-4d2e-8f18-25e11e9d70d1"
      },
      "outputs": [],
      "source": [
        "#Nombres de las columnas\n",
        "colnames(data)"
      ]
    },
    {
      "cell_type": "code",
      "execution_count": null,
      "metadata": {
        "colab": {
          "base_uri": "https://localhost:8080/",
          "height": 191
        },
        "id": "lsxoV-X0m8VW",
        "outputId": "629b5d7f-dccb-4d26-8732-1dd0bb026d8c"
      },
      "outputs": [],
      "source": [
        "# Buscar valores faltantes\n",
        "colSums(is.na(data))"
      ]
    },
    {
      "cell_type": "code",
      "execution_count": null,
      "metadata": {
        "colab": {
          "base_uri": "https://localhost:8080/",
          "height": 472
        },
        "id": "L7-ZcMxUnHjl",
        "outputId": "9f84516c-1194-4945-bb33-c56a17b50273"
      },
      "outputs": [],
      "source": [
        "# Distibución de las variables principales\n",
        "ggplot(data, aes(x = Plx)) +\n",
        "  geom_histogram(bins = 30, fill = \"blue\", color = \"black\") +\n",
        "  labs(title = \"Distribución de Plx\", x = \"Plx (milisegundos de arco)\", y = \"Frecuencia\")"
      ]
    },
    {
      "cell_type": "code",
      "execution_count": null,
      "metadata": {
        "id": "ZW3U5yZUnYPm"
      },
      "outputs": [],
      "source": [
        "# Distancia en parsecs\n",
        "data <- data %>%\n",
        "  mutate(\n",
        "    Plx_arcsec = Plx / 1000,\n",
        "    Distance_pc = 1 / Plx_arcsec\n",
        "  )"
      ]
    },
    {
      "cell_type": "code",
      "execution_count": null,
      "metadata": {
        "colab": {
          "base_uri": "https://localhost:8080/",
          "height": 541
        },
        "id": "hdkW0M9snhPj",
        "outputId": "99e32a4b-66df-4fe3-f4e4-f23378fedaf1"
      },
      "outputs": [],
      "source": [
        "# Gráfica de distancia\n",
        "ggplot(data, aes(x = Distance_pc)) +\n",
        "  geom_histogram(bins = 30, fill = \"green\", color = \"black\") +\n",
        "  labs(title = \"Distribución de Distancia (parsecs)\", x = \"Distancia (pc)\", y = \"Frecuencia\") +\n",
        "  xlim(0, 1000)  # Opcional, limitar el eje x"
      ]
    },
    {
      "cell_type": "code",
      "execution_count": null,
      "metadata": {
        "colab": {
          "base_uri": "https://localhost:8080/",
          "height": 541
        },
        "id": "KfBKY6SQnstV",
        "outputId": "2dec17bd-c7c7-416f-89c2-97d538b5c9d4"
      },
      "outputs": [],
      "source": [
        "# 1. Limpieza rigurosa de datos\n",
        "data_clean <- data %>%\n",
        "  filter(\n",
        "    Distance_pc > 0,         # Eliminar distancias inválidas\n",
        "    !is.na(Distance_pc),     # Eliminar NA\n",
        "    !is.na(Vmag),            # Eliminar NA\n",
        "    abs(Vmag) < 30           # Filtrar magnitudes físicamente posibles\n",
        "  )\n",
        "\n",
        "# 2. Gráfico base con escalas ajustadas\n",
        "plot <- ggplot(data_clean, aes(x = Distance_pc, y = Vmag)) +\n",
        "  geom_point(alpha = 0.5, color = \"steelblue\") +  # Puntos transparentes\n",
        "  scale_x_log10() +  # Escala logarítmica para distancias (opcional, si hay muchos órdenes de magnitud)\n",
        "  labs(\n",
        "    title = \"Relación entre distancia y magnitud aparente\",\n",
        "    x = \"Distancia (parsecs, pc)\",\n",
        "    y = \"Magnitud aparente (Vmag)\",\n",
        "    caption = \"Datos filtrados: Distance_pc > 0\"\n",
        "  ) +\n",
        "  theme_minimal() +  # Diseño limpio\n",
        "  theme(plot.title = element_text(hjust = 0.5))  # Centrar título\n",
        "\n",
        "# 3. Añadir regresión opcional (si hay tendencia)\n",
        "plot +\n",
        "  geom_smooth(method = \"lm\", formula = y ~ log10(x), color = \"#d7191c\", se = FALSE)\n",
        "\n",
        "# Guardar gráfico (opcional)\n",
        "ggsave(\"magnitud_vs_distancia.png\", width = 8, height = 6, dpi = 300)"
      ]
    }
  ],
  "metadata": {
    "colab": {
      "provenance": []
    },
    "kernelspec": {
      "display_name": "Python (venv-1)",
      "language": "python",
      "name": "venv-1"
    },
    "language_info": {
      "codemirror_mode": {
        "name": "ipython",
        "version": 3
      },
      "file_extension": ".py",
      "mimetype": "text/x-python",
      "name": "python",
      "nbconvert_exporter": "python",
      "pygments_lexer": "ipython3",
      "version": "3.12.6"
    }
  },
  "nbformat": 4,
  "nbformat_minor": 0
}
